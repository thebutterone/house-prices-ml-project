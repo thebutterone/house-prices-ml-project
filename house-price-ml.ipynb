{
 "cells": [
  {
   "cell_type": "markdown",
   "id": "fe300363",
   "metadata": {},
   "source": [
    "# Housing Prices Machine Learning Project\n",
    "\n",
    "This notebook documents the workflow for predicting housing prices using machine learning techniques."
   ]
  },
  {
   "cell_type": "code",
   "execution_count": null,
   "id": "5554d391",
   "metadata": {},
   "outputs": [],
   "source": [
    "import numpy as np\n",
    "import pandas as pd\n",
    "import matplotlib as plt"
   ]
  },
  {
   "cell_type": "code",
   "execution_count": null,
   "id": "95e0b139",
   "metadata": {},
   "outputs": [],
   "source": [
    "pd.set_option('display.max_columns', None)\n",
    "pd.set_option('display.width', None)\n",
    "\n",
    "# Load dataset from CSV file\n",
    "train_data_fp = r'C:\\Users\\thebi\\house-prices-ml-project\\data\\train.csv'\n",
    "test_data_fp = r'C:\\Users\\thebi\\house-prices-ml-project\\data\\test.csv'\n",
    "df_train = pd.read_csv(train_data_fp)\n",
    "df_test = pd.read_csv(test_data_fp)\n",
    "\n",
    "print('Number of Training Examples:', df_train.shape[0])\n",
    "print('Number of Testing Examples:', df_test.shape[0])\n",
    "print('Training X Shape:', df_train.shape)\n",
    "print('Testing X Shape:', df_test.shape)"
   ]
  },
  {
   "cell_type": "code",
   "execution_count": null,
   "id": "2ee1719f",
   "metadata": {},
   "outputs": [],
   "source": [
    "# ***EXPLORATORY DATA ANALYSIS***\n",
    "\n",
    "\n",
    "# Display basic statistics and first few rows of the dataframe\n",
    "print(df_train.describe())\n",
    "print(df_train.head())\n",
    "# print(df_train.columns)\n",
    "print(df_train.info())\n",
    "df_train.sample(5)"
   ]
  },
  {
   "cell_type": "code",
   "execution_count": null,
   "id": "705bdb56",
   "metadata": {},
   "outputs": [],
   "source": [
    "# Check for missing values in the dataset\n",
    "def display_missing(df_train):\n",
    "    for col in df_train.columns.tolist():\n",
    "        print('{} column missing values: {}'.format(col, df_train[col].isnull().sum()))\n",
    "    print('\\n')\n",
    "\n",
    "display_missing(df_train)"
   ]
  }
 ],
 "metadata": {
  "kernelspec": {
   "display_name": ".venv",
   "language": "python",
   "name": "python3"
  },
  "language_info": {
   "codemirror_mode": {
    "name": "ipython",
    "version": 3
   },
   "file_extension": ".py",
   "mimetype": "text/x-python",
   "name": "python",
   "nbconvert_exporter": "python",
   "pygments_lexer": "ipython3",
   "version": "3.11.9"
  }
 },
 "nbformat": 4,
 "nbformat_minor": 5
}
